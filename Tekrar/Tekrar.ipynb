{
 "cells": [
  {
   "cell_type": "markdown",
   "metadata": {},
   "source": [
    "**Soru 1)**\n",
    "Parametre olarak girilen sayının mükemmel sayı olup olmadığını hesaplayan bir fonsiyon yazınız.  Örnek olarak 6 mükemmel bir sayıdır (1 + 2 + 3 = 6). "
   ]
  },
  {
   "cell_type": "code",
   "execution_count": 1,
   "metadata": {},
   "outputs": [
    {
     "name": "stdout",
     "output_type": "stream",
     "text": [
      "True\n"
     ]
    }
   ],
   "source": [
    "def mukemmelMi(say):\n",
    "    toplam = 0\n",
    "    if(say == 0):\n",
    "        return -1\n",
    "    for i in range(1,say):\n",
    "        if((say % i)==0):\n",
    "            toplam = toplam + i\n",
    "    return toplam == say\n",
    "\n",
    "print(mukemmelMi(6))"
   ]
  },
  {
   "cell_type": "code",
   "execution_count": null,
   "metadata": {},
   "outputs": [
    {
     "name": "stdout",
     "output_type": "stream",
     "text": [
      "6\n",
      "28\n",
      "496\n",
      "8128\n"
     ]
    }
   ],
   "source": [
    "for i in range(1,100000):\n",
    "    if(mukemmelMi(i)):\n",
    "        print(i)\n",
    "print(\"Bitti\")"
   ]
  },
  {
   "cell_type": "markdown",
   "metadata": {},
   "source": [
    "**Soru 2)**\n",
    "Parametre olarak bir sayı listesi alan ve listenin ortalamasını return eden bir fonksiyon yazınız. "
   ]
  },
  {
   "cell_type": "code",
   "execution_count": 8,
   "metadata": {},
   "outputs": [
    {
     "name": "stdout",
     "output_type": "stream",
     "text": [
      "<class 'list'>\n",
      "5050\n",
      "50.5\n"
     ]
    }
   ],
   "source": [
    "def ortBul(liste):\n",
    "    toplam = 0\n",
    "    for i in liste:\n",
    "        toplam = toplam + i\n",
    "    print(toplam)\n",
    "    return toplam / len(liste)\n",
    "\n",
    "liste = list(range(1,101))\n",
    "print(type(liste))\n",
    "print(ortBul(liste))\n",
    "    "
   ]
  },
  {
   "cell_type": "code",
   "execution_count": 7,
   "metadata": {},
   "outputs": [
    {
     "name": "stdout",
     "output_type": "stream",
     "text": [
      "<class 'range'>\n"
     ]
    }
   ],
   "source": [
    "print(type(range(1,101)))"
   ]
  },
  {
   "cell_type": "markdown",
   "metadata": {},
   "source": [
    "**Soru 3)**\n",
    "Parametre olarak dizi ve sayı alan bir arama metodu yazınız . Eğer sayı listede varsa Ture yoksa False değeri return edilsin."
   ]
  },
  {
   "cell_type": "code",
   "execution_count": 2,
   "metadata": {},
   "outputs": [
    {
     "name": "stdout",
     "output_type": "stream",
     "text": [
      "True\n"
     ]
    }
   ],
   "source": [
    "def bul(liste,aranan):\n",
    "    for i in liste:\n",
    "        if(i == aranan):\n",
    "            return True\n",
    "    return False\n",
    "\n",
    "liste = list(range(0,100))\n",
    "\n",
    "print(bul(liste,5))"
   ]
  },
  {
   "cell_type": "markdown",
   "metadata": {},
   "source": [
    "**Soru 4)**\n",
    "Asal sayılar sadece kendisine ve 1'e bölünebilen 1'den büyük doğal sayılardır. Örneğin ilk 10 asal sayı 2, 3, 5, 7, 11, 13, 17, 19, 23, 29 biçiminde sıralanır.  Parametre olarak bir tam sayı(integer) alan ve bu sayı bir asal sayı ise True değilse False return eden bir fonksiyon yazınız."
   ]
  },
  {
   "cell_type": "code",
   "execution_count": 4,
   "metadata": {},
   "outputs": [],
   "source": [
    "def asalMi(say):\n",
    "    for i in range(2,say):\n",
    "        if((say % i) == 0):\n",
    "            return False\n",
    "    return True"
   ]
  },
  {
   "cell_type": "code",
   "execution_count": 5,
   "metadata": {},
   "outputs": [
    {
     "data": {
      "text/plain": [
       "True"
      ]
     },
     "execution_count": 5,
     "metadata": {},
     "output_type": "execute_result"
    }
   ],
   "source": [
    "asalMi(5)"
   ]
  },
  {
   "cell_type": "code",
   "execution_count": 6,
   "metadata": {},
   "outputs": [
    {
     "name": "stdout",
     "output_type": "stream",
     "text": [
      "Merhaba\n"
     ]
    }
   ],
   "source": [
    "def selamla():\n",
    "    print(\"Merhaba\")\n",
    "    \n",
    "selamla()"
   ]
  },
  {
   "cell_type": "code",
   "execution_count": 33,
   "metadata": {},
   "outputs": [
    {
     "name": "stdout",
     "output_type": "stream",
     "text": [
      "Merhaba isimsiz\n"
     ]
    }
   ],
   "source": [
    "def selamla(isim=\"isimsiz\"):\n",
    "    print(\"Merhaba\",isim)\n",
    "    \n",
    "selamla()"
   ]
  },
  {
   "cell_type": "code",
   "execution_count": 8,
   "metadata": {},
   "outputs": [
    {
     "name": "stdout",
     "output_type": "stream",
     "text": [
      "ismail**btk**python\n"
     ]
    }
   ],
   "source": [
    "print(\"ismail\",\"btk\",\"python\",sep=\"**\")"
   ]
  },
  {
   "cell_type": "code",
   "execution_count": 9,
   "metadata": {},
   "outputs": [
    {
     "name": "stdout",
     "output_type": "stream",
     "text": [
      "<class 'dict'>\n",
      "Çarpım = 880500741120000, Toplam = 306\n"
     ]
    }
   ],
   "source": [
    "def topla(*sayilar):\n",
    "    toplam = 0\n",
    "    carpim = 1\n",
    "    for i in sayilar:\n",
    "        toplam = toplam + i # toplam += i    \n",
    "        carpim = carpim*i #carpim *=i\n",
    "        \n",
    "    return {\"toplam\":toplam, \"carpim\":carpim}\n",
    "\n",
    "sonuc = topla(1,2,3,4,5,6,7,8,9,10,11,12,13,14,100,101)\n",
    "print(type(sonuc))\n",
    "print(\"Çarpım = {}, Toplam = {}\".format(sonuc[\"carpim\"],sonuc[\"toplam\"]))"
   ]
  },
  {
   "cell_type": "code",
   "execution_count": 32,
   "metadata": {},
   "outputs": [
    {
     "name": "stdout",
     "output_type": "stream",
     "text": [
      "21.272727272727273\n"
     ]
    }
   ],
   "source": [
    "def ortBul1(*vals):\n",
    "    toplam = 0\n",
    "    for i in vals:\n",
    "        toplam += i # toplam = toplam + i\n",
    "    return toplam / len(vals)\n",
    "\n",
    "print(ortBul1(1,2,3,4,5,6,7,8,10,88,100))"
   ]
  },
  {
   "cell_type": "code",
   "execution_count": 42,
   "metadata": {},
   "outputs": [
    {
     "name": "stdout",
     "output_type": "stream",
     "text": [
      "Vize = 0, final = 100\n",
      "60.0\n"
     ]
    }
   ],
   "source": [
    "def notHesapla(vize=0, final=0):\n",
    "    print(\"Vize = {0}, final = {1}\".format(vize,final))\n",
    "    return vize * 40/100 + final *60/100\n",
    "\n",
    "print(notHesapla(final=100))"
   ]
  },
  {
   "cell_type": "code",
   "execution_count": 45,
   "metadata": {},
   "outputs": [
    {
     "name": "stdout",
     "output_type": "stream",
     "text": [
      "[2, 4, 6, 8, 10, 12, 14, 16, 18, 20]\n"
     ]
    }
   ],
   "source": [
    "liste1 = [1,2,3,4,5,6,7,8,9,10]\n",
    "liste2 =list()#[]\n",
    "for i in liste1:\n",
    "    liste2.append(i*2)\n",
    "print(liste2)"
   ]
  },
  {
   "cell_type": "code",
   "execution_count": 46,
   "metadata": {},
   "outputs": [
    {
     "name": "stdout",
     "output_type": "stream",
     "text": [
      "[2, 4, 6, 8, 10, 12, 14, 16, 18, 20]\n"
     ]
    }
   ],
   "source": [
    "liste1 = [1,2,3,4,5,6,7,8,9,10]\n",
    "liste2 = [i*2 for i in liste1]\n",
    "print(liste2)"
   ]
  },
  {
   "cell_type": "code",
   "execution_count": 48,
   "metadata": {},
   "outputs": [
    {
     "name": "stdout",
     "output_type": "stream",
     "text": [
      "[1, 9, 25, 49, 81]\n"
     ]
    }
   ],
   "source": [
    "liste1 = [1,2,3,4,5,6,7,8,9,10]\n",
    "liste2 = [i**2 for i in liste1 if((i%2)!=0)]#sadece tek sayıların karesini liste2 ye ekledik.\n",
    "print(liste2)"
   ]
  },
  {
   "cell_type": "code",
   "execution_count": 50,
   "metadata": {},
   "outputs": [
    {
     "name": "stdout",
     "output_type": "stream",
     "text": [
      "True\n"
     ]
    }
   ],
   "source": [
    "def ciftMi(say):\n",
    "    return (say % 2) == 0\n",
    "\n",
    "print(ciftMi(8))"
   ]
  },
  {
   "cell_type": "code",
   "execution_count": 53,
   "metadata": {},
   "outputs": [
    {
     "name": "stdout",
     "output_type": "stream",
     "text": [
      "False\n"
     ]
    }
   ],
   "source": [
    "ciftMi = lambda say :(say % 2) == 0\n",
    "print(ciftMi(9))"
   ]
  },
  {
   "cell_type": "code",
   "execution_count": 54,
   "metadata": {},
   "outputs": [
    {
     "name": "stdout",
     "output_type": "stream",
     "text": [
      "5\n"
     ]
    },
    {
     "ename": "NameError",
     "evalue": "name 'a' is not defined",
     "output_type": "error",
     "traceback": [
      "\u001b[1;31m---------------------------------------------------------------------------\u001b[0m",
      "\u001b[1;31mNameError\u001b[0m                                 Traceback (most recent call last)",
      "\u001b[1;32m<ipython-input-54-1aacfb6b98b4>\u001b[0m in \u001b[0;36m<module>\u001b[1;34m\u001b[0m\n\u001b[0;32m      4\u001b[0m \u001b[1;33m\u001b[0m\u001b[0m\n\u001b[0;32m      5\u001b[0m \u001b[0mtest\u001b[0m\u001b[1;33m(\u001b[0m\u001b[1;33m)\u001b[0m\u001b[1;33m\u001b[0m\u001b[1;33m\u001b[0m\u001b[0m\n\u001b[1;32m----> 6\u001b[1;33m \u001b[0mprint\u001b[0m\u001b[1;33m(\u001b[0m\u001b[0ma\u001b[0m\u001b[1;33m)\u001b[0m\u001b[1;33m\u001b[0m\u001b[1;33m\u001b[0m\u001b[0m\n\u001b[0m",
      "\u001b[1;31mNameError\u001b[0m: name 'a' is not defined"
     ]
    }
   ],
   "source": [
    "#local\n",
    "def test():\n",
    "    a = 5\n",
    "    print(a)\n",
    "\n",
    "test()\n",
    "print(a)#a değişkenini test fonksiyonu içerisinde local değişken olarak tanımladığımız için hata aldık"
   ]
  },
  {
   "cell_type": "code",
   "execution_count": 56,
   "metadata": {},
   "outputs": [
    {
     "name": "stdout",
     "output_type": "stream",
     "text": [
      "5\n",
      "5\n",
      "5\n"
     ]
    }
   ],
   "source": [
    "#global\n",
    "a = 5\n",
    "def test():\n",
    "    print(a)\n",
    "    \n",
    "test()\n",
    "print(a)"
   ]
  },
  {
   "cell_type": "code",
   "execution_count": 61,
   "metadata": {},
   "outputs": [
    {
     "name": "stdout",
     "output_type": "stream",
     "text": [
      "5\n",
      "5\n"
     ]
    }
   ],
   "source": [
    "b=8\n",
    "def test2():\n",
    "    global b\n",
    "    b = 5\n",
    "    print(b)\n",
    "\n",
    "test2()\n",
    "print(b)"
   ]
  },
  {
   "cell_type": "code",
   "execution_count": 66,
   "metadata": {},
   "outputs": [
    {
     "name": "stdout",
     "output_type": "stream",
     "text": [
      "24\n",
      "Help on built-in function factorial in module math:\n",
      "\n",
      "factorial(x, /)\n",
      "    Find x!.\n",
      "    \n",
      "    Raise a ValueError if x is negative or non-integral.\n",
      "\n"
     ]
    }
   ],
   "source": [
    "import math\n",
    "\n",
    "#dir(math)\n",
    "print(math.factorial(4))\n",
    "help(math.factorial)"
   ]
  },
  {
   "cell_type": "code",
   "execution_count": 65,
   "metadata": {},
   "outputs": [
    {
     "name": "stdout",
     "output_type": "stream",
     "text": [
      "120\n"
     ]
    }
   ],
   "source": [
    "import math as matematik\n",
    "\n",
    "print(matematik.factorial(5))"
   ]
  },
  {
   "cell_type": "code",
   "execution_count": 68,
   "metadata": {},
   "outputs": [
    {
     "name": "stdout",
     "output_type": "stream",
     "text": [
      "Merhaba isimsiz\n"
     ]
    },
    {
     "data": {
      "text/plain": [
       "['__builtins__',\n",
       " '__cached__',\n",
       " '__doc__',\n",
       " '__file__',\n",
       " '__loader__',\n",
       " '__name__',\n",
       " '__package__',\n",
       " '__spec__',\n",
       " 'selamla',\n",
       " 'topla']"
      ]
     },
     "execution_count": 68,
     "metadata": {},
     "output_type": "execute_result"
    }
   ],
   "source": [
    "import modulTest as md\n",
    "\n",
    "md.selamla()\n",
    "\n",
    "dir(modulTest)"
   ]
  },
  {
   "cell_type": "code",
   "execution_count": 74,
   "metadata": {},
   "outputs": [
    {
     "name": "stdout",
     "output_type": "stream",
     "text": [
      "sayı gir :15b\n"
     ]
    },
    {
     "ename": "ValueError",
     "evalue": "invalid literal for int() with base 10: '15b'",
     "output_type": "error",
     "traceback": [
      "\u001b[1;31m---------------------------------------------------------------------------\u001b[0m",
      "\u001b[1;31mValueError\u001b[0m                                Traceback (most recent call last)",
      "\u001b[1;32m<ipython-input-74-0a0d85b29932>\u001b[0m in \u001b[0;36m<module>\u001b[1;34m\u001b[0m\n\u001b[1;32m----> 1\u001b[1;33m \u001b[0msay\u001b[0m \u001b[1;33m=\u001b[0m \u001b[0mint\u001b[0m\u001b[1;33m(\u001b[0m\u001b[0minput\u001b[0m\u001b[1;33m(\u001b[0m\u001b[1;34m\"sayı gir :\"\u001b[0m\u001b[1;33m)\u001b[0m\u001b[1;33m)\u001b[0m\u001b[1;33m\u001b[0m\u001b[1;33m\u001b[0m\u001b[0m\n\u001b[0m\u001b[0;32m      2\u001b[0m \u001b[0msonuc\u001b[0m \u001b[1;33m=\u001b[0m \u001b[1;36m100\u001b[0m\u001b[1;33m/\u001b[0m\u001b[0msay\u001b[0m\u001b[1;33m\u001b[0m\u001b[1;33m\u001b[0m\u001b[0m\n\u001b[0;32m      3\u001b[0m \u001b[0mprint\u001b[0m\u001b[1;33m(\u001b[0m\u001b[0msonuc\u001b[0m\u001b[1;33m)\u001b[0m\u001b[1;33m\u001b[0m\u001b[1;33m\u001b[0m\u001b[0m\n\u001b[0;32m      4\u001b[0m \u001b[0mprint\u001b[0m\u001b[1;33m(\u001b[0m\u001b[1;34m\"BTK\"\u001b[0m\u001b[1;33m)\u001b[0m\u001b[1;33m\u001b[0m\u001b[1;33m\u001b[0m\u001b[0m\n",
      "\u001b[1;31mValueError\u001b[0m: invalid literal for int() with base 10: '15b'"
     ]
    }
   ],
   "source": [
    "say = int(input(\"sayı gir :\"))\n",
    "sonuc = 100/say\n",
    "print(sonuc)\n",
    "print(\"BTK\")"
   ]
  },
  {
   "cell_type": "code",
   "execution_count": 73,
   "metadata": {},
   "outputs": [
    {
     "name": "stdout",
     "output_type": "stream",
     "text": [
      "sayı gir :0\n",
      "HATA!!!!\n",
      "BTK\n"
     ]
    }
   ],
   "source": [
    "try:\n",
    "    say = int(input(\"sayı gir :\"))\n",
    "    sonuc = 100/say\n",
    "    print(sonuc)\n",
    "except:\n",
    "    print(\"HATA!!!!\")\n",
    "    \n",
    "print(\"BTK\")"
   ]
  },
  {
   "cell_type": "code",
   "execution_count": 76,
   "metadata": {},
   "outputs": [
    {
     "name": "stdout",
     "output_type": "stream",
     "text": [
      "sayı gir :asd\n",
      "Lütfen sayı giriniz!! HATA!!\n",
      "BTK\n"
     ]
    }
   ],
   "source": [
    "try:\n",
    "    say = int(input(\"sayı gir :\"))\n",
    "    sonuc = 100/say\n",
    "    print(sonuc)\n",
    "except ZeroDivisionError:\n",
    "    print(\"Sıfır girilemez!! HATA\")\n",
    "except ValueError:\n",
    "    print(\"Lütfen sayı giriniz!! HATA!!\")\n",
    "    \n",
    "print(\"BTK\")"
   ]
  },
  {
   "cell_type": "code",
   "execution_count": 82,
   "metadata": {},
   "outputs": [
    {
     "name": "stdout",
     "output_type": "stream",
     "text": [
      "çıkmak için q'e basınız!\n",
      "Lütfen giril yapınız!5\n",
      "20.0\n",
      "Lütfen giril yapınız!1\n",
      "100.0\n",
      "Lütfen giril yapınız!8\n",
      "12.5\n",
      "Lütfen giril yapınız!0\n",
      "Sıfır girilemez!! HATA\n",
      "Lütfen giril yapınız!5\n",
      "20.0\n",
      "Lütfen giril yapınız!ads\n",
      "Lütfen sayı giriniz!! HATA!!\n",
      "Lütfen giril yapınız!q\n",
      "By By\n"
     ]
    }
   ],
   "source": [
    "print(\"çıkmak için q'e basınız!\")\n",
    "while True:\n",
    "    girdi = input(\"Lütfen giril yapınız!\")\n",
    "    \n",
    "    if(girdi == \"q\"):\n",
    "        print(\"By By\")\n",
    "        break\n",
    "    else:\n",
    "        try:\n",
    "            sonuc = 100/int(girdi)\n",
    "            print(sonuc)\n",
    "        except ZeroDivisionError:\n",
    "            print(\"Sıfır girilemez!! HATA\")\n",
    "        except ValueError:\n",
    "            print(\"Lütfen sayı giriniz!! HATA!!\")\n",
    "        "
   ]
  },
  {
   "cell_type": "code",
   "execution_count": null,
   "metadata": {},
   "outputs": [],
   "source": []
  },
  {
   "cell_type": "code",
   "execution_count": null,
   "metadata": {},
   "outputs": [],
   "source": []
  }
 ],
 "metadata": {
  "kernelspec": {
   "display_name": "Python 3",
   "language": "python",
   "name": "python3"
  },
  "language_info": {
   "codemirror_mode": {
    "name": "ipython",
    "version": 3
   },
   "file_extension": ".py",
   "mimetype": "text/x-python",
   "name": "python",
   "nbconvert_exporter": "python",
   "pygments_lexer": "ipython3",
   "version": "3.7.1"
  }
 },
 "nbformat": 4,
 "nbformat_minor": 2
}
