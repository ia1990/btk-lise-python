{
 "cells": [
  {
   "cell_type": "code",
   "execution_count": null,
   "metadata": {},
   "outputs": [],
   "source": [
    "print(\"B\",\"T\",\"K\",sep=\"+\")"
   ]
  },
  {
   "cell_type": "code",
   "execution_count": null,
   "metadata": {},
   "outputs": [],
   "source": [
    "a = 3\n",
    "b = 4\n",
    "\n",
    "a,b = b,a\n",
    "print(a,b)"
   ]
  },
  {
   "cell_type": "code",
   "execution_count": null,
   "metadata": {},
   "outputs": [],
   "source": [
    "a = 3\n",
    "b = 4\n",
    "\n",
    "c = a\n",
    "a= b\n",
    "b=c\n",
    "\n",
    "print(a,b)"
   ]
  },
  {
   "cell_type": "code",
   "execution_count": null,
   "metadata": {},
   "outputs": [],
   "source": [
    "metin = \"Burası Btk Burası Zirve\" \n",
    "print(metin[7:11]) "
   ]
  },
  {
   "cell_type": "code",
   "execution_count": null,
   "metadata": {},
   "outputs": [],
   "source": [
    "print(\"\"\"\n",
    "Bursı Btk Bırası Zirve  \n",
    "      Python Eğitimi\n",
    "\"\"\") "
   ]
  },
  {
   "cell_type": "code",
   "execution_count": null,
   "metadata": {},
   "outputs": [],
   "source": [
    "liste = [1,2,3,4,5] \n",
    "print(liste + [6,7,8,9,10])  \n",
    "print(liste)"
   ]
  },
  {
   "cell_type": "code",
   "execution_count": null,
   "metadata": {},
   "outputs": [],
   "source": [
    "liste = [1,2,3,4,5] \n",
    "liste = liste + [6,7,8,9,10]\n",
    "print(liste)"
   ]
  },
  {
   "cell_type": "code",
   "execution_count": null,
   "metadata": {},
   "outputs": [],
   "source": [
    "liste = [1,2,3,4,5]\n",
    "liste.pop()\n",
    "print(liste)"
   ]
  },
  {
   "cell_type": "code",
   "execution_count": null,
   "metadata": {},
   "outputs": [],
   "source": [
    "liste = [1,2,3,4,5,6,7,8,9,10,11,12,13,14,15]\n",
    "for eleman in liste: \n",
    "    if((eleman % 2) == 0):         \n",
    "        continue     \n",
    "    elif(eleman > 10):         \n",
    "        break     \n",
    "    else:         \n",
    "        print(eleman)"
   ]
  },
  {
   "cell_type": "code",
   "execution_count": null,
   "metadata": {},
   "outputs": [],
   "source": [
    "for i in range (3):#0,1,2,     \n",
    "    for j in range (1,5):#1,2,3,4\n",
    "        print(j, end=\" \")    \n",
    "    print() "
   ]
  },
  {
   "cell_type": "code",
   "execution_count": null,
   "metadata": {},
   "outputs": [],
   "source": [
    "print(\"btk\",\"abc\", end=\" \")\n",
    "print(\"btk\",\"abc\", end =\")\\n\"\n",
    "print(\"btk\",\"abc\")"
   ]
  },
  {
   "cell_type": "code",
   "execution_count": null,
   "metadata": {},
   "outputs": [],
   "source": [
    "msj = input(\"Cumle: \")\n",
    "\n",
    "sayac= 0\n",
    "for c in msj:\n",
    "    if(c == \"a\"):\n",
    "        sayac = sayac + 1\n",
    "print(\"a sayısı :\",sayac)"
   ]
  },
  {
   "cell_type": "code",
   "execution_count": null,
   "metadata": {},
   "outputs": [],
   "source": [
    "def ortalama(a,b,c):\n",
    "    return (a+b+c)/3\n",
    "\n",
    "print(ortalama(3,4,6))"
   ]
  },
  {
   "cell_type": "code",
   "execution_count": null,
   "metadata": {},
   "outputs": [],
   "source": [
    "for i in range(10,-1,-1):\n",
    "    if(i%2==0):\n",
    "        print(i)\n",
    "  \n",
    "        \n",
    "            \n",
    "            \n",
    "    \n"
   ]
  },
  {
   "cell_type": "code",
   "execution_count": null,
   "metadata": {},
   "outputs": [],
   "source": [
    "print(*range(10,-1,-1))"
   ]
  },
  {
   "cell_type": "code",
   "execution_count": null,
   "metadata": {},
   "outputs": [],
   "source": [
    "print(\"test\")"
   ]
  },
  {
   "cell_type": "code",
   "execution_count": null,
   "metadata": {},
   "outputs": [],
   "source": [
    "a = 10\n",
    "while(a>=0):\n",
    "    print(a)\n",
    "    a-=2"
   ]
  },
  {
   "cell_type": "code",
   "execution_count": 2,
   "metadata": {},
   "outputs": [
    {
     "name": "stdout",
     "output_type": "stream",
     "text": [
      "55 3628800\n"
     ]
    }
   ],
   "source": [
    "liste = list(range(0,11))\n",
    "toplam = 0\n",
    "carpim = 1\n",
    "for eleman in liste:\n",
    "    toplam+=eleman\n",
    "    if(eleman != 0):\n",
    "        carpim*=eleman\n",
    "print(toplam,carpim)\n"
   ]
  },
  {
   "cell_type": "code",
   "execution_count": null,
   "metadata": {},
   "outputs": [],
   "source": [
    "print(\"\"\"Basit Hesap Makinesi\n",
    "***********************\n",
    "+=>Toplama\n",
    "-=>Çıkarma\n",
    "*=>Çarpma\n",
    "/=>Bölme\n",
    "q=>Çıkış\"\"\")\n",
    "işlem_listesi=[\"+\",\"-\",\"*\",\"/\",\"q\"]\n",
    "while True:\n",
    "    işlem=input(\"İşleminizi seçiniz: \")\n",
    "    if işlem in işlem_listesi:\n",
    "        if işlem==\"q\":\n",
    "            print(\"Program kapatıldı.\")\n",
    "            break\n",
    "    else:\n",
    "        print(\"Hatalı işlem girdiniz!\")\n",
    "        continue\n",
    "    sayı1=int(input(\"İlk sayıyı giriniz: \"))\n",
    "    sayı2=int(input(\"İkinci sayıyı giriniz: \"))\n",
    "    if işlem==\"+\":\n",
    "        print(\"Sonuç=\",sayı1+sayı2)\n",
    "    elif işlem==\"-\":\n",
    "        print(\"Sonuç=\",sayı1-sayı2)\n",
    "    elif işlem==\"*\":\n",
    "        print(\"Sonuç=\",sayı1*sayı2)\n",
    "    elif işlem==\"/\":\n",
    "        print(\"Sonuç=\",sayı1/sayı2)\n",
    "    "
   ]
  },
  {
   "cell_type": "code",
   "execution_count": null,
   "metadata": {},
   "outputs": [],
   "source": []
  },
  {
   "cell_type": "code",
   "execution_count": null,
   "metadata": {},
   "outputs": [],
   "source": []
  }
 ],
 "metadata": {
  "kernelspec": {
   "display_name": "Python 3",
   "language": "python",
   "name": "python3"
  },
  "language_info": {
   "codemirror_mode": {
    "name": "ipython",
    "version": 3
   },
   "file_extension": ".py",
   "mimetype": "text/x-python",
   "name": "python",
   "nbconvert_exporter": "python",
   "pygments_lexer": "ipython3",
   "version": "3.7.1"
  }
 },
 "nbformat": 4,
 "nbformat_minor": 2
}
